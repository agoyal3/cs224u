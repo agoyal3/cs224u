{
 "cells": [
  {
   "cell_type": "markdown",
   "metadata": {},
   "source": [
    "# Homework and bake-off: pragmatic color descriptions"
   ]
  },
  {
   "cell_type": "code",
   "execution_count": 1,
   "metadata": {},
   "outputs": [],
   "source": [
    "__author__ = \"Christopher Potts\"\n",
    "__version__ = \"CS224u, Stanford, Summer 2021\""
   ]
  },
  {
   "cell_type": "markdown",
   "metadata": {},
   "source": [
    "## Contents\n",
    "\n",
    "1. [Overview](#Overview)\n",
    "1. [Set-up](#Set-up)\n",
    "1. [All two-word examples as a dev corpus](#All-two-word-examples-as-a-dev-corpus)\n",
    "1. [Dev dataset](#Dev-dataset)\n",
    "1. [Random train–test split for development](#Random-train–test-split-for-development)\n",
    "1. [Question 1: Improve the tokenizer [1 point]](#Question-1:-Improve-the-tokenizer-[1-point])\n",
    "1. [Use the tokenizer](#Use-the-tokenizer)\n",
    "1. [Question 2: Improve the color representations [1 point]](#Question-2:-Improve-the-color-representations-[1-point])\n",
    "1. [Use the color representer](#Use-the-color-representer)\n",
    "1. [Initial model](#Initial-model)\n",
    "1. [Question 3: GloVe embeddings [1 point]](#Question-3:-GloVe-embeddings-[1-point])\n",
    "1. [Try the GloVe representations](#Try-the-GloVe-representations)\n",
    "1. [Question 4: Color context [3 points]](#Question-4:-Color-context-[3-points])\n",
    "1. [Your original system [3 points]](#Your-original-system-[3-points])\n",
    "1. [Bakeoff [1 point]](#Bakeoff-[1-point])\n",
    "1. [Submission Instruction](#Submission-Instruction)"
   ]
  },
  {
   "cell_type": "markdown",
   "metadata": {},
   "source": [
    "## Overview\n",
    "\n",
    "This homework and associated bake-off are oriented toward building an effective system for generating color descriptions that are pragmatic in the sense that they would help a reader/listener figure out which color was being referred to in a shared context consisting of a target color (whose identity is known only to the describer/speaker) and a set of distractors.\n",
    "\n",
    "The notebook [colors_overview.ipynb](colors_overview.ipynb) should be studied before work on this homework begins. That notebook provides backgroud on the task, the dataset, and the modeling code that you will be using and adapting.\n",
    "\n",
    "The homework questions are more open-ended than previous ones have been. Rather than asking you to implement pre-defined functionality, they ask you to try to improve baseline components of the full system in ways that you find to be effective. As usual, this culminates in a prompt asking you to develop a novel system for entry into the bake-off. In this case, though, the work you do for the homework will likely be directly incorporated into that system (not required, but an efficient way to work at the very least)."
   ]
  },
  {
   "cell_type": "markdown",
   "metadata": {},
   "source": [
    "## Set-up"
   ]
  },
  {
   "cell_type": "markdown",
   "metadata": {},
   "source": [
    "See [colors_overview.ipynb](colors_overview.ipynb) for set-up in instructions and other background details."
   ]
  },
  {
   "cell_type": "code",
   "execution_count": 2,
   "metadata": {},
   "outputs": [],
   "source": [
    "from colors import ColorsCorpusReader\n",
    "from nltk.translate.bleu_score import corpus_bleu\n",
    "import numpy as np\n",
    "import os\n",
    "import pandas as pd\n",
    "from sklearn.model_selection import train_test_split\n",
    "from torch_color_describer import ContextualColorDescriber\n",
    "from torch_color_describer import create_example_dataset\n",
    "\n",
    "import utils\n",
    "from utils import START_SYMBOL, END_SYMBOL, UNK_SYMBOL"
   ]
  },
  {
   "cell_type": "code",
   "execution_count": 3,
   "metadata": {},
   "outputs": [],
   "source": [
    "utils.fix_random_seeds()"
   ]
  },
  {
   "cell_type": "code",
   "execution_count": 4,
   "metadata": {},
   "outputs": [],
   "source": [
    "COLORS_SRC_FILENAME = os.path.join(\"data\", \"colors\", \"filteredCorpus.csv\")"
   ]
  },
  {
   "cell_type": "markdown",
   "metadata": {},
   "source": [
    "## All two-word examples as a dev corpus\n",
    "\n",
    "So that you don't have to sit through excessively long training runs during development, I suggest working with the two-word-only subset of the corpus until you enter into the late stages of system testing."
   ]
  },
  {
   "cell_type": "code",
   "execution_count": 5,
   "metadata": {},
   "outputs": [],
   "source": [
    "dev_corpus = ColorsCorpusReader(\n",
    "    COLORS_SRC_FILENAME,\n",
    "    word_count=2,\n",
    "    normalize_colors=True)"
   ]
  },
  {
   "cell_type": "code",
   "execution_count": 6,
   "metadata": {},
   "outputs": [],
   "source": [
    "dev_examples = list(dev_corpus.read())"
   ]
  },
  {
   "cell_type": "markdown",
   "metadata": {},
   "source": [
    "This subset has about one-third the examples of the full corpus:"
   ]
  },
  {
   "cell_type": "code",
   "execution_count": 7,
   "metadata": {},
   "outputs": [
    {
     "data": {
      "text/plain": [
       "13890"
      ]
     },
     "execution_count": 7,
     "metadata": {},
     "output_type": "execute_result"
    }
   ],
   "source": [
    "len(dev_examples)"
   ]
  },
  {
   "cell_type": "markdown",
   "metadata": {},
   "source": [
    "We __should__ worry that it's not a fully representative sample. Most of the descriptions in the full corpus are shorter, and a large proportion are longer. So this dataset is mainly for debugging, development, and general hill-climbing. All findings should be validated on the full dataset at some point."
   ]
  },
  {
   "cell_type": "markdown",
   "metadata": {},
   "source": [
    "## Dev dataset\n",
    "\n",
    "The first step is to extract the raw color and raw texts from the corpus:"
   ]
  },
  {
   "cell_type": "code",
   "execution_count": 8,
   "metadata": {},
   "outputs": [],
   "source": [
    "dev_rawcols, dev_texts = zip(*[[ex.colors, ex.contents] for ex in dev_examples])"
   ]
  },
  {
   "cell_type": "markdown",
   "metadata": {},
   "source": [
    "The raw color representations are suitable inputs to a model, but the texts are just strings, so they can't really be processed as-is. Question 1 asks you to do some tokenizing!"
   ]
  },
  {
   "cell_type": "markdown",
   "metadata": {},
   "source": [
    "## Random train–test split for development\n",
    "\n",
    "For the sake of development runs, we create a random train–test split:"
   ]
  },
  {
   "cell_type": "code",
   "execution_count": 9,
   "metadata": {},
   "outputs": [],
   "source": [
    "dev_rawcols_train, dev_rawcols_test, dev_texts_train, dev_texts_test = \\\n",
    "    train_test_split(dev_rawcols, dev_texts)"
   ]
  },
  {
   "cell_type": "markdown",
   "metadata": {},
   "source": [
    "## Question 1: Improve the tokenizer [1 point]\n",
    "\n",
    "This is the first required question – the first required modification to the default pipeline.\n",
    "\n",
    "The function `tokenize_example` simply splits its string on whitespace and adds the required start and end symbols:"
   ]
  },
  {
   "cell_type": "code",
   "execution_count": 35,
   "metadata": {},
   "outputs": [],
   "source": [
    "def tokenize_example(s):\n",
    "\n",
    "    import re\n",
    "    s = s.lower()\n",
    "    s = re.sub(r'[^\\w\\s]',' ', s)\n",
    "    s = re.sub(' +', ' ', s)\n",
    "    \n",
    "    # Improve me!\n",
    "\n",
    "    return [START_SYMBOL] + s.split() + [END_SYMBOL]"
   ]
  },
  {
   "cell_type": "code",
   "execution_count": 36,
   "metadata": {},
   "outputs": [
    {
     "data": {
      "text/plain": [
       "['<s>', 'aqua', 'teal', '</s>']"
      ]
     },
     "execution_count": 36,
     "metadata": {},
     "output_type": "execute_result"
    }
   ],
   "source": [
    "tokenize_example(dev_texts_train[376])"
   ]
  },
  {
   "cell_type": "markdown",
   "metadata": {},
   "source": [
    "__Your task__: Modify `tokenize_example` so that it does something more sophisticated with the input text. \n",
    "\n",
    "__Notes__:\n",
    "\n",
    "* There are useful ideas for this in [Monroe et al. 2017](https://transacl.org/ojs/index.php/tacl/article/view/1142)\n",
    "* There is no requirement that you do word-level tokenization. Sub-word and multi-word are options.\n",
    "* This question can interact with the size of your vocabulary (see just below), and in turn with decisions about how to use `UNK_SYMBOL`.\n",
    "\n",
    "__Important__: don't forget to add the start and end symbols, else the resulting models will definitely be terrible! The following test will check that your tokenizer has this property:"
   ]
  },
  {
   "cell_type": "code",
   "execution_count": 37,
   "metadata": {},
   "outputs": [],
   "source": [
    "def test_tokenize_example(func):\n",
    "    s = \"A test string\"\n",
    "    result = func(s)\n",
    "    assert all(isinstance(tok, str) for tok in result), \\\n",
    "        \"The tokenizer must return a list of strings.\"\n",
    "    assert result[0] == START_SYMBOL, \\\n",
    "        \"The tokenizer must add START_SYMBOL as the first token.\"\n",
    "    assert result[-1] == END_SYMBOL, \\\n",
    "        \"The tokenizer must add END_SYMBOL as the final token.\""
   ]
  },
  {
   "cell_type": "code",
   "execution_count": 38,
   "metadata": {},
   "outputs": [],
   "source": [
    "if 'IS_GRADESCOPE_ENV' not in os.environ:\n",
    "    test_tokenize_example(tokenize_example)"
   ]
  },
  {
   "cell_type": "markdown",
   "metadata": {},
   "source": [
    "## Use the tokenizer"
   ]
  },
  {
   "cell_type": "markdown",
   "metadata": {},
   "source": [
    "Once the tokenizer is working, run the following cell to tokenize your inputs:"
   ]
  },
  {
   "cell_type": "code",
   "execution_count": 39,
   "metadata": {},
   "outputs": [],
   "source": [
    "dev_seqs_train = [tokenize_example(s) for s in dev_texts_train]\n",
    "\n",
    "dev_seqs_test = [tokenize_example(s) for s in dev_texts_test]"
   ]
  },
  {
   "cell_type": "markdown",
   "metadata": {},
   "source": [
    "We use only the train set to derive a vocabulary for the model:"
   ]
  },
  {
   "cell_type": "code",
   "execution_count": 40,
   "metadata": {},
   "outputs": [],
   "source": [
    "dev_vocab = sorted({w for toks in dev_seqs_train for w in toks})\n",
    "\n",
    "dev_vocab += [UNK_SYMBOL]"
   ]
  },
  {
   "cell_type": "markdown",
   "metadata": {},
   "source": [
    "It's important that the `UNK_SYMBOL` is included somewhere in this list. In test examples, words not seen in training will be mapped to `UNK_SYMBOL`. \n",
    "\n",
    "Conceptual note: If you model's vocab is the same as your train vocab, then `UNK_SYMBOL` will never be encountered during training, so it will be a random vector at test time."
   ]
  },
  {
   "cell_type": "code",
   "execution_count": 41,
   "metadata": {},
   "outputs": [
    {
     "data": {
      "text/plain": [
       "972"
      ]
     },
     "execution_count": 41,
     "metadata": {},
     "output_type": "execute_result"
    }
   ],
   "source": [
    "len(dev_vocab)"
   ]
  },
  {
   "cell_type": "markdown",
   "metadata": {},
   "source": [
    "## Question 2: Improve the color representations [1 point]\n",
    "\n",
    "This is the second required pipeline improvement for the assignment. \n",
    "\n",
    "The following functions do nothing at all to the raw input colors we get from the corpus. "
   ]
  },
  {
   "cell_type": "code",
   "execution_count": 144,
   "metadata": {},
   "outputs": [],
   "source": [
    "def represent_color_context(colors):\n",
    "  \n",
    "    return [represent_color(color) for color in colors]\n",
    "\n",
    "\n",
    "def represent_color(color):\n",
    "    \n",
    "    from itertools import product\n",
    "    import cmath\n",
    "    \n",
    "    i_h = color[0]\n",
    "    i_s = color[1]\n",
    "    i_l = color[2]\n",
    "\n",
    "    h = i_h\n",
    "    v = i_l + i_s * min(i_l, 1 - i_l)\n",
    "    s = 0 if v == 0 else 2 * (1 - (i_l/v))\n",
    "        \n",
    "    f_jkl = list()\n",
    "\n",
    "    for j, k, l in product((h, s, v), repeat=3):\n",
    "\n",
    "        f_jkl.append(cmath.exp(-2j*cmath.pi*(j + k + l)))\n",
    "\n",
    "    color = [x.real for x in f_jkl] + [x.imag for x in f_jkl]\n",
    "\n",
    "    return color"
   ]
  },
  {
   "cell_type": "code",
   "execution_count": 145,
   "metadata": {},
   "outputs": [
    {
     "data": {
      "text/plain": [
       "[[-0.8660254037844386,\n",
       "  0.9396926207859083,\n",
       "  -0.9432226579476011,\n",
       "  0.9396926207859083,\n",
       "  -0.9848077530122078,\n",
       "  0.9865721616069694,\n",
       "  -0.9432226579476011,\n",
       "  0.9865721616069694,\n",
       "  -0.9882283814465528,\n",
       "  0.9396926207859083,\n",
       "  -0.9848077530122078,\n",
       "  0.9865721616069694,\n",
       "  -0.9848077530122078,\n",
       "  1.0,\n",
       "  -0.9999451693655121,\n",
       "  0.9865721616069694,\n",
       "  -0.9999451693655121,\n",
       "  0.9997806834748455,\n",
       "  -0.9432226579476011,\n",
       "  0.9865721616069694,\n",
       "  -0.9882283814465528,\n",
       "  0.9865721616069694,\n",
       "  -0.9999451693655121,\n",
       "  0.9997806834748455,\n",
       "  -0.9882283814465528,\n",
       "  0.9997806834748455,\n",
       "  -0.9995065603657316,\n",
       "  0.5000000000000001,\n",
       "  -0.34202014332566893,\n",
       "  0.332161131883703,\n",
       "  -0.34202014332566893,\n",
       "  0.17364817766693152,\n",
       "  -0.16332596224162246,\n",
       "  0.332161131883703,\n",
       "  -0.16332596224162246,\n",
       "  0.15298583628403817,\n",
       "  -0.34202014332566893,\n",
       "  0.17364817766693152,\n",
       "  -0.16332596224162246,\n",
       "  0.17364817766693152,\n",
       "  4.898587196589413e-16,\n",
       "  -0.01047178411624551,\n",
       "  -0.16332596224162246,\n",
       "  -0.01047178411624551,\n",
       "  0.020942419883355903,\n",
       "  0.332161131883703,\n",
       "  -0.16332596224162246,\n",
       "  0.15298583628403817,\n",
       "  -0.16332596224162246,\n",
       "  -0.01047178411624551,\n",
       "  0.020942419883355903,\n",
       "  0.15298583628403817,\n",
       "  0.020942419883355903,\n",
       "  -0.031410759078128236],\n",
       " [0.052335956242944674,\n",
       "  0.529919264233203,\n",
       "  0.8069603121438018,\n",
       "  0.529919264233203,\n",
       "  0.8746197071393959,\n",
       "  0.41945208244617804,\n",
       "  0.8069603121438018,\n",
       "  0.41945208244617804,\n",
       "  -0.9360595357389732,\n",
       "  0.529919264233203,\n",
       "  0.8746197071393959,\n",
       "  0.41945208244617804,\n",
       "  0.8746197071393959,\n",
       "  1.0,\n",
       "  -0.0732381971276311,\n",
       "  0.41945208244617804,\n",
       "  -0.0732381971276311,\n",
       "  -0.9892723329629883,\n",
       "  0.8069603121438018,\n",
       "  0.41945208244617804,\n",
       "  -0.9360595357389732,\n",
       "  0.41945208244617804,\n",
       "  -0.0732381971276311,\n",
       "  -0.9892723329629883,\n",
       "  -0.9360595357389732,\n",
       "  -0.9892723329629883,\n",
       "  0.2181432413965425,\n",
       "  -0.9986295347545738,\n",
       "  -0.8480480961564272,\n",
       "  0.5906056676199256,\n",
       "  -0.8480480961564272,\n",
       "  -0.484809620246337,\n",
       "  0.9077774785329082,\n",
       "  0.5906056676199256,\n",
       "  0.9077774785329082,\n",
       "  0.3518416484047021,\n",
       "  -0.8480480961564272,\n",
       "  -0.484809620246337,\n",
       "  0.9077774785329082,\n",
       "  -0.484809620246337,\n",
       "  4.898587196589413e-16,\n",
       "  0.9973144772244581,\n",
       "  0.9077774785329082,\n",
       "  0.9973144772244581,\n",
       "  -0.14608302856241173,\n",
       "  0.5906056676199256,\n",
       "  0.9077774785329082,\n",
       "  0.3518416484047021,\n",
       "  0.9077774785329082,\n",
       "  0.9973144772244581,\n",
       "  -0.14608302856241173,\n",
       "  0.3518416484047021,\n",
       "  -0.14608302856241173,\n",
       "  -0.9759167619387474],\n",
       " [0.40673664307579976,\n",
       "  0.6207365632508048,\n",
       "  -0.8424523970071472,\n",
       "  0.6207365632508042,\n",
       "  0.7958951250842926,\n",
       "  -0.9498080675263821,\n",
       "  -0.8424523970071464,\n",
       "  -0.9498080675263821,\n",
       "  0.9999025240093042,\n",
       "  0.6207365632508042,\n",
       "  0.7958951250842926,\n",
       "  -0.9498080675263821,\n",
       "  0.7958951250842926,\n",
       "  0.9212521292428621,\n",
       "  -0.997731383500151,\n",
       "  -0.9498080675263821,\n",
       "  -0.997731383500151,\n",
       "  0.9651539081186862,\n",
       "  -0.8424523970071464,\n",
       "  -0.9498080675263821,\n",
       "  0.9999025240093042,\n",
       "  -0.9498080675263821,\n",
       "  -0.997731383500151,\n",
       "  0.9651539081186862,\n",
       "  0.9999025240093042,\n",
       "  0.9651539081186862,\n",
       "  -0.827080574274563,\n",
       "  0.9135454576426011,\n",
       "  0.7840192083384052,\n",
       "  -0.5387707850068635,\n",
       "  0.7840192083384058,\n",
       "  0.6054345132770829,\n",
       "  -0.3128332381026663,\n",
       "  -0.5387707850068649,\n",
       "  -0.3128332381026663,\n",
       "  -0.013962180339143914,\n",
       "  0.7840192083384058,\n",
       "  0.6054345132770829,\n",
       "  -0.3128332381026663,\n",
       "  0.6054345132770829,\n",
       "  0.388965955278213,\n",
       "  -0.0673207722688516,\n",
       "  -0.3128332381026663,\n",
       "  -0.0673207722688516,\n",
       "  -0.2616828875628414,\n",
       "  -0.5387707850068649,\n",
       "  -0.3128332381026663,\n",
       "  -0.013962180339143914,\n",
       "  -0.3128332381026663,\n",
       "  -0.0673207722688516,\n",
       "  -0.2616828875628414,\n",
       "  -0.013962180339143914,\n",
       "  -0.2616828875628414,\n",
       "  0.5620833778521288]]"
      ]
     },
     "execution_count": 145,
     "metadata": {},
     "output_type": "execute_result"
    }
   ],
   "source": [
    "represent_color_context(dev_rawcols_train[0])"
   ]
  },
  {
   "cell_type": "markdown",
   "metadata": {},
   "source": [
    "__Your task__: Modify `represent_color_context` and/or `represent_color` to represent colors in a new way.\n",
    "    \n",
    "__Notes__:\n",
    "\n",
    "* You are not required to keep `represent_color`. This might be unnatural if you want to perform an operation on each color trio all at once.\n",
    "* For that matter, if you want to process all of the color contexts in the entire data set all at once, that is fine too, as long as you can also perform the operation at test time with an unknown number of examples being tested.\n",
    "\n",
    "* The Fourier-transform method of [Monroe et al. 2016](https://www.aclweb.org/anthology/D16-1243/) and [Monroe et al. 2017](https://transacl.org/ojs/index.php/tacl/article/view/1142) is a proven choice for our task. __It is not required that you implement this.__ However, if you decide to, you might find that the overly terse presentation in the paper is an obstacle. They key thing to see is that the notation $\\hat{f}_{jkl}$ is meant to specify a full coordinate system. Thus, you might do something like\n",
    "\n",
    "  ```\n",
    "from itertools import product\n",
    "for j, k, l in product((0, 1, 2), repeat=3):    \n",
    "    f_jkl = ...\n",
    "```\n",
    "\n",
    "  and collect these `f_jkl` values in a list of 27 values. Additionally, in Python, [`2j` produces a value with `real` and `imag` attributes](https://docs.python.org/3.7/library/cmath.html). Each element `f_jkl` should have these components. If you concatenate the `real` and `imag` parts of all the `f_jkl`, you will have a 54-dimensional representation, as in the paper. Remember to start with an HSV representation, and with $h$ in $[0, 360]$, $s$ in $[0, 200]$, and $v$ in $[0, 200]$ (or else do the scaling differently). Note that the values in our corpus are in HLS format, [which are easily converted to HSV](https://en.wikipedia.org/wiki/HSL_and_HSV#HSV_to_HSL).\n",
    "  \n",
    "* It's natural to ask why this Fourier transform is useful in the current context. This is a challenging question, and I don't have a complete answer, but here is an intuitive observation: if you consider the raw color representations to be embeddings, then you can see very quickly that our standard geometric notions are totally out of line with our intuitions about the colors themselves. For example, here is a plot where we simply vary the hue dimension while keeping the other dimensions constant:\n",
    "\n",
    "  <img src=\"fig/colors-hue-hls.png\" alt=\"A series of very different colors with cosine distances from orange ranging from 0 to 0.19\" />\n",
    "\n",
    "  I've printed the cosine distances from the leftmost color above each patch. They all look pretty similar. Now, you might say, well at least the distances are sort of proportional to how different the colors are from the first. However, that argument seems to crumble when we do the same experiment but now varying the saturation dimension:\n",
    "\n",
    "  <img src=\"fig/colors-saturation-hls.png\" alt=\"A series of very similar purple-ish colors with cosine distances from gray-purple ranging from 0 to 0.19\" />\n",
    "\n",
    "  These colors are all quite simular intuitively. Notice, though, that the cosine distances are identical to my first plot. Of course! Cosine distances doesn't care about the nature of these dimensions! The underlying color space is a cylinder, not a regular Euclidean 3d space!\n",
    "  \n",
    "  The Fourier transformation that we apply is remapping the colors into approximately the cylindrical space that we want. It is at least capturing some the circular/radial relationships that are inherent in the space. Thus, here are plots corresponding to the above, but now where the colors have been transformed for the cosine comparisons. \n",
    "  \n",
    "  First, the hue variation:\n",
    "  \n",
    "  <img src=\"fig/colors-hue-fourier.png\" alt=\"A series of very different colors with cosine distances from orange that are generally large (near 1.0)\" />\n",
    "\n",
    "  And then saturation:\n",
    "  \n",
    "  <img src=\"fig/colors-saturation-fourier.png\" alt=\"A series of very similar purple-ish colors with cosine distances from gray purple that seem aligned with visual color similarity\" />\n",
    "  \n",
    "  These distances seem much better aligned with intuitions to me, and I think that's quite general. Thus, even if our networks can in principle learn this remapping, it's very helpful to at least start them closer to where we want them to be.\n",
    "  \n",
    "  If you want to go one layer deeper, then the [Zhang and Lu 2002](https://www.sciencedirect.com/science/article/pii/S092359650200084X) paper that Monroe et al. 2016 cite is pretty intuitive. It's for the 2d case, but that actually makes the ideas somewhere more accessible, since they can easily plot the original and remapped feature spaces."
   ]
  },
  {
   "cell_type": "markdown",
   "metadata": {},
   "source": [
    "The following test seeks to ensure only that the output of your `represent_color_context` will be compatible with the models we are creating:"
   ]
  },
  {
   "cell_type": "code",
   "execution_count": 146,
   "metadata": {},
   "outputs": [],
   "source": [
    "def test_represent_color_context(func):\n",
    "    \"\"\"`func` should be `represent_color_context`\"\"\"\n",
    "    example = [\n",
    "        [0.786, 0.58, 0.87],\n",
    "        [0.689, 0.44, 0.92],\n",
    "        [0.628, 0.32, 0.81]]\n",
    "    result = func(example)\n",
    "    assert len(result) == len(example), \\\n",
    "        (\"Color context representations need to represent each color \"\n",
    "         \"separately. (We assume the final color is the target.)\")\n",
    "    for i, color in enumerate(result):\n",
    "        assert all(isinstance(x, float) for x in color), \\\n",
    "            (\"All color representations should be lists of floats. \"\n",
    "             \"Color {} is {}\".format(i, color))"
   ]
  },
  {
   "cell_type": "code",
   "execution_count": 147,
   "metadata": {},
   "outputs": [],
   "source": [
    "if 'IS_GRADESCOPE_ENV' not in os.environ:\n",
    "    test_represent_color_context(represent_color_context)"
   ]
  },
  {
   "cell_type": "markdown",
   "metadata": {},
   "source": [
    "## Use the color representer"
   ]
  },
  {
   "cell_type": "markdown",
   "metadata": {},
   "source": [
    "The following cell just runs your `represent_color_context` on the train and test sets:"
   ]
  },
  {
   "cell_type": "code",
   "execution_count": 148,
   "metadata": {},
   "outputs": [],
   "source": [
    "dev_cols_train = [represent_color_context(colors) for colors in dev_rawcols_train]\n",
    "\n",
    "dev_cols_test = [represent_color_context(colors) for colors in dev_rawcols_test]"
   ]
  },
  {
   "cell_type": "markdown",
   "metadata": {},
   "source": [
    "At this point, our preprocessing steps are complete, and we can fit a first model."
   ]
  },
  {
   "cell_type": "markdown",
   "metadata": {},
   "source": [
    "## Initial model\n",
    "\n",
    "The first model is configured right now to be a small model run for just a few iterations. It should be enough to get traction, but it's unlikely to be a great model. You are free to modify this configuration if you wish; it is here just for demonstration and testing:"
   ]
  },
  {
   "cell_type": "code",
   "execution_count": 149,
   "metadata": {},
   "outputs": [],
   "source": [
    "dev_mod = ContextualColorDescriber(\n",
    "    dev_vocab,\n",
    "    early_stopping=True)"
   ]
  },
  {
   "cell_type": "code",
   "execution_count": 150,
   "metadata": {},
   "outputs": [
    {
     "name": "stderr",
     "output_type": "stream",
     "text": [
      "Stopping after epoch 100. Validation score did not improve by tol=1e-05 for more than 10 epochs. Final error is 30.585434913635254"
     ]
    },
    {
     "name": "stdout",
     "output_type": "stream",
     "text": [
      "CPU times: user 11min 41s, sys: 27.1 s, total: 12min 8s\n",
      "Wall time: 4min 30s\n"
     ]
    }
   ],
   "source": [
    "if 'IS_GRADESCOPE_ENV' not in os.environ:\n",
    "    %time _ = dev_mod.fit(dev_cols_train, dev_seqs_train)\n",
    "else:\n",
    "    dev_mod.fit(dev_cols_train, dev_seqs_train)"
   ]
  },
  {
   "cell_type": "markdown",
   "metadata": {},
   "source": [
    "The canonical bake-off evaluation function is `evaluate`. Our primary metric is `listener_accuracy`; the BLEU score is included as a check to ensure that your system is speaking English!"
   ]
  },
  {
   "cell_type": "code",
   "execution_count": 151,
   "metadata": {},
   "outputs": [],
   "source": [
    "evaluation = dev_mod.evaluate(dev_cols_test, dev_seqs_test)"
   ]
  },
  {
   "cell_type": "code",
   "execution_count": 152,
   "metadata": {},
   "outputs": [
    {
     "data": {
      "text/plain": [
       "dict_keys(['listener_accuracy', 'corpus_bleu', 'target_index', 'predicted_index', 'predicted_utterance'])"
      ]
     },
     "execution_count": 152,
     "metadata": {},
     "output_type": "execute_result"
    }
   ],
   "source": [
    "evaluation.keys()"
   ]
  },
  {
   "cell_type": "code",
   "execution_count": 153,
   "metadata": {},
   "outputs": [
    {
     "data": {
      "text/plain": [
       "0.7313561762165275"
      ]
     },
     "execution_count": 153,
     "metadata": {},
     "output_type": "execute_result"
    }
   ],
   "source": [
    "evaluation['listener_accuracy']"
   ]
  },
  {
   "cell_type": "code",
   "execution_count": 154,
   "metadata": {},
   "outputs": [
    {
     "data": {
      "text/plain": [
       "0.7313561762165275"
      ]
     },
     "execution_count": 154,
     "metadata": {},
     "output_type": "execute_result"
    }
   ],
   "source": [
    "dev_mod.listener_accuracy(dev_cols_test, dev_seqs_test)"
   ]
  },
  {
   "cell_type": "code",
   "execution_count": 155,
   "metadata": {},
   "outputs": [
    {
     "data": {
      "text/plain": [
       "0.6807336710724186"
      ]
     },
     "execution_count": 155,
     "metadata": {},
     "output_type": "execute_result"
    }
   ],
   "source": [
    "evaluation['corpus_bleu']"
   ]
  },
  {
   "cell_type": "code",
   "execution_count": 156,
   "metadata": {},
   "outputs": [
    {
     "data": {
      "text/plain": [
       "0.6807336710724186"
      ]
     },
     "execution_count": 156,
     "metadata": {},
     "output_type": "execute_result"
    }
   ],
   "source": [
    "bleu, predicted_utterances = dev_mod.corpus_bleu(dev_cols_test, dev_seqs_test)\n",
    "\n",
    "bleu"
   ]
  },
  {
   "cell_type": "code",
   "execution_count": 157,
   "metadata": {},
   "outputs": [
    {
     "data": {
      "text/plain": [
       "[2, 2, 2, 2, 2]"
      ]
     },
     "execution_count": 157,
     "metadata": {},
     "output_type": "execute_result"
    }
   ],
   "source": [
    "evaluation['target_index'][: 5]"
   ]
  },
  {
   "cell_type": "code",
   "execution_count": 158,
   "metadata": {},
   "outputs": [
    {
     "data": {
      "text/plain": [
       "[1, 0, 2, 2, 2]"
      ]
     },
     "execution_count": 158,
     "metadata": {},
     "output_type": "execute_result"
    }
   ],
   "source": [
    "evaluation['predicted_index'][: 5]"
   ]
  },
  {
   "cell_type": "code",
   "execution_count": 159,
   "metadata": {},
   "outputs": [
    {
     "data": {
      "text/plain": [
       "[['<s>', 'bright', 'purple', '</s>'],\n",
       " ['<s>', 'yellow', 'green', '</s>'],\n",
       " ['<s>', 'dull', 'purple', '</s>'],\n",
       " ['<s>', 'hot', 'pink', '</s>'],\n",
       " ['<s>', 'bright', 'green', '</s>']]"
      ]
     },
     "execution_count": 159,
     "metadata": {},
     "output_type": "execute_result"
    }
   ],
   "source": [
    "evaluation['predicted_utterance'][: 5]"
   ]
  },
  {
   "cell_type": "markdown",
   "metadata": {},
   "source": [
    "We can also see the model's predicted sequences given color context inputs:"
   ]
  },
  {
   "cell_type": "code",
   "execution_count": 160,
   "metadata": {},
   "outputs": [
    {
     "data": {
      "text/plain": [
       "[['<s>', 'bright', 'purple', '</s>']]"
      ]
     },
     "execution_count": 160,
     "metadata": {},
     "output_type": "execute_result"
    }
   ],
   "source": [
    "dev_mod.predict(dev_cols_test[: 1])"
   ]
  },
  {
   "cell_type": "code",
   "execution_count": 161,
   "metadata": {},
   "outputs": [
    {
     "data": {
      "text/plain": [
       "[['<s>', 'right', 'side', 'purple', 'pinkish', '</s>']]"
      ]
     },
     "execution_count": 161,
     "metadata": {},
     "output_type": "execute_result"
    }
   ],
   "source": [
    "dev_seqs_test[: 1]"
   ]
  },
  {
   "cell_type": "markdown",
   "metadata": {},
   "source": [
    "## Question 3: GloVe embeddings [1 point]\n",
    "\n",
    "The above model uses a random initial embedding, as configured by the decoder used by `ContextualColorDescriber`. This homework question asks you to consider using GloVe inputs. \n",
    "\n",
    "__Your task__: Complete `create_glove_embedding` so that it creates a GloVe embedding based on your model vocabulary. This isn't mean to be analytically challenging, but rather just to create a basis for you to try out other kinds of rich initialization."
   ]
  },
  {
   "cell_type": "code",
   "execution_count": 162,
   "metadata": {},
   "outputs": [],
   "source": [
    "GLOVE_HOME = os.path.join('data', 'glove.6B')"
   ]
  },
  {
   "cell_type": "code",
   "execution_count": 166,
   "metadata": {},
   "outputs": [],
   "source": [
    "def create_glove_embedding(vocab, glove_base_filename='glove.6B.50d.txt'):\n",
    "    \n",
    "    # Use `utils.glove2dict` to read in the GloVe file:\n",
    "\n",
    "    ##### YOUR CODE HERE\n",
    "    \n",
    "    glove_embeddings_dict = utils.glove2dict(os.path.join(GLOVE_HOME, glove_base_filename))\n",
    "\n",
    "    # Use `utils.create_pretrained_embedding` to create the embedding.\n",
    "    # This function will, by default, ensure that START_TOKEN,\n",
    "    # END_TOKEN, and UNK_TOKEN are included in the embedding.\n",
    "\n",
    "    ##### YOUR CODE HERE\n",
    "    glove_embedding, vocab = utils.create_pretrained_embedding(glove_embeddings_dict, vocab)\n",
    "\n",
    "\n",
    "    # Be sure to return the embedding you create as well as the\n",
    "    # vocabulary returned by `utils.create_pretrained_embedding`,\n",
    "    # which is likely to have been modified from the input `vocab`.\n",
    "\n",
    "    ##### YOUR CODE HERE\n",
    "    return glove_embedding, vocab"
   ]
  },
  {
   "cell_type": "code",
   "execution_count": 167,
   "metadata": {},
   "outputs": [],
   "source": [
    "def test_create_glove_embedding(func):\n",
    "    vocab = ['NLU', 'is', 'the', 'future', '.', '$UNK', '<s>', '</s>']\n",
    "    glove_embedding, glove_vocab = func(vocab, 'glove.6B.50d.txt')\n",
    "    assert isinstance(glove_embedding, np.ndarray), \\\n",
    "        \"Expected embedding type {}; got {}\".format(\n",
    "        glove_embedding.__class__.__name__, glove_embedding.__class__.__name__)\n",
    "    assert glove_embedding.shape == (8, 50), \\\n",
    "        \"Expected embedding shape (8, 50); got {}\".format(glove_embedding.shape)\n",
    "    assert glove_vocab == vocab, \\\n",
    "        \"Expected vocab {}; got {}\".format(vocab, glove_vocab)"
   ]
  },
  {
   "cell_type": "code",
   "execution_count": 168,
   "metadata": {},
   "outputs": [],
   "source": [
    "if 'IS_GRADESCOPE_ENV' not in os.environ:\n",
    "    test_create_glove_embedding(create_glove_embedding)"
   ]
  },
  {
   "cell_type": "markdown",
   "metadata": {},
   "source": [
    "## Try the GloVe representations"
   ]
  },
  {
   "cell_type": "markdown",
   "metadata": {},
   "source": [
    "The extent to which GloVe is useful will depend heavily on how aligned your tokenization scheme is with the GloVe vocabulary. For example, if you did character-level tokenization, then the GloVe embedding space is not well-aligned with your tokenizer and using GloVe should have little no positive effect."
   ]
  },
  {
   "cell_type": "markdown",
   "metadata": {},
   "source": [
    "Let's see if GloVe helped for our development data:"
   ]
  },
  {
   "cell_type": "code",
   "execution_count": 169,
   "metadata": {},
   "outputs": [],
   "source": [
    "dev_glove_embedding, dev_glove_vocab = create_glove_embedding(dev_vocab)"
   ]
  },
  {
   "cell_type": "code",
   "execution_count": 170,
   "metadata": {},
   "outputs": [
    {
     "data": {
      "text/plain": [
       "972"
      ]
     },
     "execution_count": 170,
     "metadata": {},
     "output_type": "execute_result"
    }
   ],
   "source": [
    "len(dev_vocab)"
   ]
  },
  {
   "cell_type": "code",
   "execution_count": 171,
   "metadata": {},
   "outputs": [
    {
     "data": {
      "text/plain": [
       "972"
      ]
     },
     "execution_count": 171,
     "metadata": {},
     "output_type": "execute_result"
    }
   ],
   "source": [
    "len(dev_glove_vocab)"
   ]
  },
  {
   "cell_type": "code",
   "execution_count": 172,
   "metadata": {},
   "outputs": [],
   "source": [
    "dev_mod_glove = ContextualColorDescriber(\n",
    "    dev_glove_vocab,\n",
    "    embedding=dev_glove_embedding,\n",
    "    early_stopping=True)"
   ]
  },
  {
   "cell_type": "code",
   "execution_count": 173,
   "metadata": {},
   "outputs": [
    {
     "name": "stderr",
     "output_type": "stream",
     "text": [
      "Stopping after epoch 115. Validation score did not improve by tol=1e-05 for more than 10 epochs. Final error is 29.3589026927948"
     ]
    }
   ],
   "source": [
    "_ = dev_mod_glove.fit(dev_cols_train, dev_seqs_train)"
   ]
  },
  {
   "cell_type": "code",
   "execution_count": 174,
   "metadata": {},
   "outputs": [
    {
     "data": {
      "text/plain": [
       "0.7460408868413475"
      ]
     },
     "execution_count": 174,
     "metadata": {},
     "output_type": "execute_result"
    }
   ],
   "source": [
    "dev_mod_glove.listener_accuracy(dev_cols_test, dev_seqs_test)"
   ]
  },
  {
   "cell_type": "markdown",
   "metadata": {},
   "source": [
    "You probably saw a small boost, assuming your tokeization scheme leads to good overlap with the GloVe vocabulary. The input representations are larger than in our previous model (at least as I configured things), so we would need to do more runs with higher `max_iter` values to see whether this is worthwhile overall."
   ]
  },
  {
   "cell_type": "markdown",
   "metadata": {},
   "source": [
    "## Question 4: Color context [3 points]\n",
    "\n",
    "The final required homework question is the most challenging, but it should set you up to think in much more flexible ways about the underlying model we're using.\n",
    "\n",
    "The question asks you to modify various model components in `torch_color_describer.py`. The section called [Modifying the core model](colors_overview.ipynb#Modifying-the-core-model) from the core unit notebook provides a number of examples illustrating the basic techniques, so you might review that material if you get stuck here.\n",
    "\n",
    "__Your task__: Building on ideas from [Monroe et al. 2017](https://transacl.org/ojs/index.php/tacl/article/view/1142), you will redesign the model so that the target color (the final one in the context) is appended to each input token that gets processed by the decoder. The question asks you to subclass the `Decoder` and `EncoderDecoder` from `torch_color_describer.py` so that you can build models that do this."
   ]
  },
  {
   "cell_type": "markdown",
   "metadata": {},
   "source": [
    "__Step 1__: Modify the `Decoder` so that the input vector to the model at each timestep is not just a token representation `x` but the concatenation of `x` with the representation of the target color.\n",
    "\n",
    "__Notes__:\n",
    "\n",
    "* You might notice at this point that the original `Decoder.forward` method has an optional keyword argument `target_colors` that is passed to `Decoder.get_embeddings`. Because this is already in place, all you have to do is modify the `get_embeddings` method to use this argument.\n",
    "\n",
    "* The change affects the configuration of `self.rnn`, so you need to subclass the `__init__` method as well, so that its `input_size` argument accomodates the embedding as well as the color representations.\n",
    "\n",
    "* You can do the relevant operations efficiently in pure PyTorch using `repeat_interleave` and `cat`, but the important thing is to get a working implementation – you can always optimize the code later if the ideas prove useful to you. \n",
    "\n",
    "Here's skeleton code for you to flesh out:"
   ]
  },
  {
   "cell_type": "code",
   "execution_count": 304,
   "metadata": {},
   "outputs": [],
   "source": [
    "from torch_color_describer import Decoder\n",
    "import torch\n",
    "import torch.nn as nn\n",
    "\n",
    "\n",
    "class ColorContextDecoder(Decoder):\n",
    "    def __init__(self, color_dim, *args, **kwargs):\n",
    "        self.color_dim = color_dim\n",
    "        super().__init__(*args, **kwargs)\n",
    "\n",
    "        # Fix the `self.rnn` attribute:\n",
    "        ##### YOUR CODE HERE\n",
    "        self.rnn = nn.GRU(\n",
    "            input_size=self.embed_dim + self.color_dim,\n",
    "            hidden_size=self.hidden_dim,\n",
    "            batch_first=True)\n",
    "        \n",
    "        self.target_colors = None\n",
    "\n",
    "    def get_embeddings(self, word_seqs, target_colors=None):\n",
    "        \"\"\"\n",
    "        You can assume that `target_colors` is a tensor of shape\n",
    "        (m, n), where m is the length of the batch (same as\n",
    "        `word_seqs.shape[0]`) and n is the dimensionality of the\n",
    "        color representations the model is using. The goal is\n",
    "        to attached each color vector i to each of the tokens in\n",
    "        the ith sequence of (the embedded version of) `word_seqs`.\n",
    "\n",
    "        \"\"\"\n",
    "        ##### YOUR CODE HERE\n",
    "        \n",
    "        embeddings = self.embedding(word_seqs)\n",
    "        (x, y, z) = embeddings.shape\n",
    "        (m, n) = target_colors.shape\n",
    "        \n",
    "        target_colors_repeated = torch.repeat_interleave(torch.reshape(target_colors, (m, 1, n)), y, dim=1)\n",
    "        \n",
    "        return torch.cat((embeddings, target_colors_repeated), 2)"
   ]
  },
  {
   "cell_type": "markdown",
   "metadata": {},
   "source": [
    "Step 1 is the most demanding of the steps in terms of tensor wrangling. It's important to have a clear idea of what you are trying to achieve and to unit test `get_embeddings` so that you can check that it has realized your vision. The following test should help with that:"
   ]
  },
  {
   "cell_type": "code",
   "execution_count": 305,
   "metadata": {},
   "outputs": [],
   "source": [
    "def test_get_embeddings(decoder_class):\n",
    "    \"\"\"\n",
    "    It's assumed that the input to this will be `ColorContextDecoder`.\n",
    "    You pass in the class, and the function initalizes it with the test\n",
    "    parameters.\n",
    "    \"\"\"\n",
    "    dec = decoder_class(\n",
    "        color_dim=3,   # For these, we mainly want *different*\n",
    "        vocab_size=10, # dimensions so that we reliably get\n",
    "        embed_dim=4,   # dimensionality errors if something\n",
    "        hidden_dim=5)  # isn't working.\n",
    "\n",
    "    # This step just changes the embedding to one with values\n",
    "    # that are easy to inspect and definitely will not change\n",
    "    # between runs:\n",
    "    dec.embedding = nn.Embedding.from_pretrained(\n",
    "        torch.FloatTensor([\n",
    "            [10, 11, 12, 13],\n",
    "            [14, 15, 16, 17],\n",
    "            [18, 19, 20, 21]]))\n",
    "\n",
    "    # These are the incoming sequences -- lists of indices\n",
    "    # into the rows of `dec.embedding`:\n",
    "    word_seqs = torch.tensor([\n",
    "        [0,1,2],\n",
    "        [2,0,1]])\n",
    "\n",
    "    # Target colors as small floats that will be easy to track:\n",
    "    target_colors = torch.tensor([\n",
    "        [0.1, 0.2, 0.3],\n",
    "        [0.7, 0.8, 0.9]])\n",
    "\n",
    "    # The desired return value: one list of tensors for each of\n",
    "    # the two sequences in `word_seqs`. Each index is replaced\n",
    "    # with its vector from `dec.embedding` and has the\n",
    "    # corrresponding color from `target_colors` appended to it.\n",
    "    expected = torch.tensor([\n",
    "        [[10., 11., 12., 13.,  0.1,  0.2,  0.3],\n",
    "         [14., 15., 16., 17.,  0.1,  0.2,  0.3],\n",
    "         [18., 19., 20., 21.,  0.1,  0.2,  0.3]],\n",
    "\n",
    "        [[18., 19., 20., 21.,  0.7,  0.8,  0.9],\n",
    "         [10., 11., 12., 13.,  0.7,  0.8,  0.9],\n",
    "         [14., 15., 16., 17.,  0.7,  0.8,  0.9]]])\n",
    "\n",
    "    result = dec.get_embeddings(word_seqs, target_colors=target_colors)\n",
    "\n",
    "    assert expected.shape == result.shape, \\\n",
    "        \"Expected shape {}; got shape {}\".format(expected.shape, result.shape)\n",
    "\n",
    "    assert torch.all(expected.eq(result)), \\\n",
    "        (\"Your result has the desired shape but the values aren't correct. \"\n",
    "         \"Here's what your function creates; compare it with `expected` \"\n",
    "         \"from the test:\\n{}\".format(result))"
   ]
  },
  {
   "cell_type": "code",
   "execution_count": 306,
   "metadata": {},
   "outputs": [],
   "source": [
    "if 'IS_GRADESCOPE_ENV' not in os.environ:\n",
    "    test_get_embeddings(ColorContextDecoder)"
   ]
  },
  {
   "cell_type": "markdown",
   "metadata": {},
   "source": [
    "__Step 2__: Modify the `EncoderDecoder`. For this, you just need to make a small change to the `forward` method: extract the target colors from `color_seqs` and feed them to the decoder."
   ]
  },
  {
   "cell_type": "code",
   "execution_count": 440,
   "metadata": {},
   "outputs": [],
   "source": [
    "from torch_color_describer import EncoderDecoder\n",
    "\n",
    "class ColorizedEncoderDecoder(EncoderDecoder):\n",
    "\n",
    "    def forward(self,\n",
    "            color_seqs,\n",
    "            word_seqs,\n",
    "            seq_lengths=None,\n",
    "            hidden=None,\n",
    "            targets=None):\n",
    "        \n",
    "        if hidden is None:\n",
    "            hidden = self.encoder(color_seqs)\n",
    "\n",
    "        # Extract the target colors from `color_seqs` and\n",
    "        # feed them to the decoder, which already has a\n",
    "        # `target_colors` keyword.\n",
    "\n",
    "        ##### YOUR CODE HERE\n",
    "        \n",
    "        if torch.cuda.is_available():\n",
    "            device = torch.device('cuda')\n",
    "        \n",
    "        target_colors = torch.index_select(color_seqs, 1, torch.tensor([2]).to(device)).squeeze(1)\n",
    "        \n",
    "        output, hidden = self.decoder(word_seqs, seq_lengths=seq_lengths, hidden=hidden, target_colors=target_colors)\n",
    "\n",
    "        # Your decoder will return `output, hidden` pairs; the\n",
    "        # following will handle the two return situations that\n",
    "        # the code needs to consider -- training and prediction.\n",
    "        if self.training:\n",
    "            return output\n",
    "        else:\n",
    "            return output, hidden"
   ]
  },
  {
   "cell_type": "markdown",
   "metadata": {},
   "source": [
    "__Step 3__: Finally, as in the examples in [Modifying the core model](colors_overview.ipynb#Modifying-the-core-model), you need to modify the `build_graph` method of `ContextualColorDescriber` so that it uses your new `ColorContextDecoder` and `ColorizedEncoderDecoder`. Here's starter code:"
   ]
  },
  {
   "cell_type": "code",
   "execution_count": 441,
   "metadata": {},
   "outputs": [],
   "source": [
    "from torch_color_describer import Encoder\n",
    "\n",
    "class ColorizedInputDescriber(ContextualColorDescriber):\n",
    "\n",
    "    def build_graph(self):\n",
    "\n",
    "        # We didn't modify the encoder, so this is\n",
    "        # just copied over from the original:\n",
    "        encoder = Encoder(\n",
    "            color_dim=self.color_dim,\n",
    "            hidden_dim=self.hidden_dim)\n",
    "\n",
    "        # Use your `ColorContextDecoder`, making sure\n",
    "        # to pass in all the keyword arguments coming\n",
    "        # from `ColorizedInputDescriber`:\n",
    "\n",
    "        ##### YOUR CODE HERE\n",
    "        \n",
    "        decoder = ColorContextDecoder(\n",
    "            vocab_size=self.vocab_size,\n",
    "            embed_dim=self.embed_dim,\n",
    "            embedding=self.embedding,\n",
    "            hidden_dim=self.hidden_dim,\n",
    "            freeze_embedding=self.freeze_embedding,\n",
    "            color_dim=self.color_dim\n",
    "        )\n",
    "\n",
    "        self.embed_dim = decoder.embed_dim\n",
    "\n",
    "\n",
    "        # Return a `ColorizedEncoderDecoder` that uses\n",
    "        # your encoder and decoder:\n",
    "\n",
    "        ##### YOUR CODE HERE\n",
    "        return ColorizedEncoderDecoder(encoder, decoder)"
   ]
  },
  {
   "cell_type": "markdown",
   "metadata": {},
   "source": [
    "That's it! Since these modifications are pretty intricate, you might want to use [a toy dataset](colors_overview.ipynb#Toy-problems-for-development-work) to debug it:"
   ]
  },
  {
   "cell_type": "code",
   "execution_count": 442,
   "metadata": {},
   "outputs": [],
   "source": [
    "def test_full_system(describer_class):\n",
    "    toy_color_seqs, toy_word_seqs, toy_vocab = create_example_dataset(\n",
    "        group_size=50, vec_dim=2)\n",
    "\n",
    "    toy_color_seqs_train, toy_color_seqs_test, toy_word_seqs_train, toy_word_seqs_test = \\\n",
    "        train_test_split(toy_color_seqs, toy_word_seqs)\n",
    "\n",
    "    toy_mod = describer_class(toy_vocab)\n",
    "\n",
    "    _ = toy_mod.fit(toy_color_seqs_train, toy_word_seqs_train)\n",
    "\n",
    "    acc = toy_mod.listener_accuracy(toy_color_seqs_test, toy_word_seqs_test)\n",
    "\n",
    "    return acc"
   ]
  },
  {
   "cell_type": "code",
   "execution_count": 443,
   "metadata": {},
   "outputs": [
    {
     "name": "stderr",
     "output_type": "stream",
     "text": [
      "Finished epoch 1000 of 1000; error is 0.11115927249193192"
     ]
    },
    {
     "data": {
      "text/plain": [
       "1.0"
      ]
     },
     "execution_count": 443,
     "metadata": {},
     "output_type": "execute_result"
    }
   ],
   "source": [
    "test_full_system(ColorizedInputDescriber)"
   ]
  },
  {
   "cell_type": "markdown",
   "metadata": {},
   "source": [
    "If that worked, then you can now try this model on SCC problems!"
   ]
  },
  {
   "cell_type": "markdown",
   "metadata": {},
   "source": [
    "## Your original system [3 points]"
   ]
  },
  {
   "cell_type": "markdown",
   "metadata": {},
   "source": [
    "There are many options for your original system, which consists of the full pipeline – all preprocessing and modeling steps. You are free to use any model you like, as long as you subclass `ContextualColorDescriber` in a way that allows its `evaluate` method to behave in the expected way.\n",
    "\n",
    "So that we can evaluate models in a uniform way for the bake-off, we ask that you modify the function `evaluate_original_system` below so that it accepts a trained instance of your model and does any preprocessing steps required by your model.\n",
    "\n",
    "If we seek to reproduce your results, we will rerun this entire notebook. Thus, it is fine if your `evaluate_original_system` makes use of functions you wrote or modified above this cell."
   ]
  },
  {
   "cell_type": "code",
   "execution_count": 445,
   "metadata": {},
   "outputs": [],
   "source": [
    "def evaluate_original_system(trained_model, color_seqs_test, texts_test):\n",
    "    \"\"\"\n",
    "    Feel free to modify this code to accommodate the needs of\n",
    "    your system. Just keep in mind that it will get raw corpus\n",
    "    examples as inputs for the bake-off.\n",
    "\n",
    "    \"\"\"\n",
    "    # `word_seqs_test` is a list of strings, so tokenize each of\n",
    "    # its elements:\n",
    "    tok_seqs = [tokenize_example(s) for s in texts_test]\n",
    "\n",
    "    col_seqs = [represent_color_context(colors)\n",
    "                for colors in color_seqs_test]\n",
    "\n",
    "    # Optionally include other preprocessing steps here. Note:\n",
    "    # DO NOT RETRAIN YOUR MODEL AS PART OF THIS EVALUATION!\n",
    "    # It's a tempting step, but it's a mistake and will get\n",
    "    # you disqualified!\n",
    "\n",
    "    # The following core score calculations are required:\n",
    "    evaluation = trained_model.evaluate(col_seqs, tok_seqs)\n",
    "\n",
    "    return evaluation"
   ]
  },
  {
   "cell_type": "markdown",
   "metadata": {},
   "source": [
    "If `evaluate_original_system` works on test sets you create from the corpus distribution, then it will work for the bake-off, so consider checking that. For example, this would check that `dev_mod` above passes muster:"
   ]
  },
  {
   "cell_type": "code",
   "execution_count": null,
   "metadata": {},
   "outputs": [],
   "source": [
    "# 200 50\n",
    "\n",
    "# 0.7192628851137345\n",
    "# 0.6805923115826604\n",
    "\n",
    "# 200 100\n",
    "\n",
    "# 0.7477684998560322\n",
    "# 0.6845831828870373\n",
    "\n",
    "# 200 200\n",
    "\n",
    "# 0.7578462424416931\n",
    "# 0.6818576460606313\n",
    "\n",
    "# 300 50\n",
    "\n",
    "# 0.710624820040311\n",
    "# 0.6777240527446255\n",
    "\n",
    "# 300 100\n",
    "\n",
    "# 0.7284768211920529\n",
    "# 0.6794038397182774\n",
    "\n",
    "# 300 200\n",
    "\n",
    "# 0.7494961128707169\n",
    "# 0.6851472487464092"
   ]
  },
  {
   "cell_type": "code",
   "execution_count": 446,
   "metadata": {},
   "outputs": [],
   "source": [
    "my_evaluation = evaluate_original_system(dev_mod, dev_rawcols_test, dev_texts_test)"
   ]
  },
  {
   "cell_type": "code",
   "execution_count": 447,
   "metadata": {},
   "outputs": [
    {
     "data": {
      "text/plain": [
       "0.7512237258854016"
      ]
     },
     "execution_count": 447,
     "metadata": {},
     "output_type": "execute_result"
    }
   ],
   "source": [
    "my_evaluation['listener_accuracy']"
   ]
  },
  {
   "cell_type": "code",
   "execution_count": 448,
   "metadata": {},
   "outputs": [
    {
     "data": {
      "text/plain": [
       "0.6832533515328963"
      ]
     },
     "execution_count": 448,
     "metadata": {},
     "output_type": "execute_result"
    }
   ],
   "source": [
    "my_evaluation['corpus_bleu']"
   ]
  },
  {
   "cell_type": "code",
   "execution_count": 430,
   "metadata": {},
   "outputs": [
    {
     "name": "stdout",
     "output_type": "stream",
     "text": [
      "100 200\n"
     ]
    },
    {
     "name": "stderr",
     "output_type": "stream",
     "text": [
      "/home/ankit.g1/Documents/Github/cs224u/utils.py:50: DeprecationWarning: `np.float` is a deprecated alias for the builtin `float`. To silence this warning, use `float` by itself. Doing this will not modify any behavior and is safe. If you specifically wanted the numpy scalar type, use `np.float64` here.\n",
      "Deprecated in NumPy 1.20; for more details and guidance: https://numpy.org/devdocs/release/1.20.0-notes.html#deprecations\n",
      "  data[line[0]] = np.array(line[1: ], dtype=np.float)\n",
      "Stopping after epoch 60. Validation score did not improve by tol=1e-05 for more than 10 epochs. Final error is 30.13256871700287"
     ]
    },
    {
     "name": "stdout",
     "output_type": "stream",
     "text": [
      "0.7569824359343507\n",
      "0.6833247216856739\n",
      "\n",
      "300 200\n"
     ]
    },
    {
     "name": "stderr",
     "output_type": "stream",
     "text": [
      "/home/ankit.g1/Documents/Github/cs224u/utils.py:50: DeprecationWarning: `np.float` is a deprecated alias for the builtin `float`. To silence this warning, use `float` by itself. Doing this will not modify any behavior and is safe. If you specifically wanted the numpy scalar type, use `np.float64` here.\n",
      "Deprecated in NumPy 1.20; for more details and guidance: https://numpy.org/devdocs/release/1.20.0-notes.html#deprecations\n",
      "  data[line[0]] = np.array(line[1: ], dtype=np.float)\n",
      "Stopping after epoch 49. Validation score did not improve by tol=1e-05 for more than 10 epochs. Final error is 31.65955877304077"
     ]
    },
    {
     "name": "stdout",
     "output_type": "stream",
     "text": [
      "0.7512237258854016\n",
      "0.6832533515328963\n",
      "\n"
     ]
    }
   ],
   "source": [
    "embed_dims = [100, 300]\n",
    "hidden_dims = [200]\n",
    "\n",
    "\n",
    "for embed_dim in embed_dims:\n",
    "    for hidden_dim in hidden_dims:\n",
    "        \n",
    "        print(embed_dim, hidden_dim)\n",
    "        glove_embedding, glove_vocab = create_glove_embedding(dev_vocab, 'glove.6B.300d.txt')\n",
    "\n",
    "        dev_mod = ContextualColorDescriber(\n",
    "            glove_vocab,\n",
    "            embedding=glove_embedding,\n",
    "            embed_dim=embed_dim,\n",
    "            hidden_dim=hidden_dim,\n",
    "            early_stopping=True)\n",
    "\n",
    "        _ = dev_mod.fit(dev_cols_train, dev_seqs_train)\n",
    "\n",
    "        my_evaluation = evaluate_original_system(dev_mod, dev_rawcols_test, dev_texts_test)\n",
    "        print(my_evaluation['listener_accuracy'])\n",
    "        print(my_evaluation['corpus_bleu'])\n",
    "        print()"
   ]
  },
  {
   "cell_type": "code",
   "execution_count": null,
   "metadata": {},
   "outputs": [],
   "source": [
    "# Glove - 200d\n",
    "\n",
    "# 100 200\n",
    "# 0.7659084365102217\n",
    "# 0.6813677052350898\n",
    "\n",
    "# 200 200\n",
    "# 0.7589979844514829\n",
    "# 0.6851444945796439\n",
    "\n",
    "# 300 200\n",
    "# 0.7572703714367982\n",
    "# 0.6857716442705581"
   ]
  },
  {
   "cell_type": "code",
   "execution_count": null,
   "metadata": {},
   "outputs": [],
   "source": [
    "# GLOVE - 100d\n",
    "\n",
    "# 100 100\n",
    "# 0.7564065649294558\n",
    "# 0.6844487033477815\n",
    "\n",
    "# 100 200\n",
    "# 0.7638928879930895\n",
    "# 0.6816476714211135\n",
    "\n",
    "# 200 100\n",
    "# 0.7515116613878491\n",
    "# 0.6822034846743639\n",
    "\n",
    "# 200 200\n",
    "# 0.7561186294270084\n",
    "# 0.6829706191864161"
   ]
  },
  {
   "cell_type": "code",
   "execution_count": 427,
   "metadata": {},
   "outputs": [],
   "source": [
    "# GLOVE - 50d\n",
    "\n",
    "# 100 200\n",
    "\n",
    "# 0.7618773394759574\n",
    "# 0.6837391273324791\n",
    "\n",
    "# 200 200\n",
    "\n",
    "# 0.7578462424416931\n",
    "# 0.6822609155859949\n",
    "\n",
    "# 300 200\n",
    "\n",
    "# 0.7653325655053268\n",
    "# 0.6850647466837854"
   ]
  },
  {
   "cell_type": "markdown",
   "metadata": {},
   "source": [
    "In the cell below, please provide a brief technical description of your original system, so that the teaching team can gain an understanding of what it does. This will help us to understand your code and analyze all the submissions to identify patterns and strategies. We also ask that you report the best **listener_accuracy** score your system got during development, just to help us understand how systems performed overall."
   ]
  },
  {
   "cell_type": "code",
   "execution_count": 449,
   "metadata": {},
   "outputs": [],
   "source": [
    "# PLEASE MAKE SURE TO INCLUDE THE FOLLOWING BETWEEN THE START AND STOP COMMENTS:\n",
    "#   1) Textual description of your system.\n",
    "#   2) The code for your original system.\n",
    "#   3) The score achieved by your system in place of MY_NUMBER.\n",
    "#        With no other changes to that line.\n",
    "#        You should report your score as a decimal value <=1.0\n",
    "# PLEASE MAKE SURE NOT TO DELETE OR EDIT THE START AND STOP COMMENTS\n",
    "\n",
    "# NOTE: MODULES, CODE AND DATASETS REQUIRED FOR YOUR ORIGINAL SYSTEM\n",
    "# SHOULD BE ADDED BELOW THE 'IS_GRADESCOPE_ENV' CHECK CONDITION. DOING\n",
    "# SO ABOVE THE CHECK MAY CAUSE THE AUTOGRADER TO FAIL.\n",
    "\n",
    "# START COMMENT: Enter your system description in this cell.\n",
    "# Textual description : Tokenizing the text on the punctuations. For color representation, using the code developed above\n",
    "# with the Fourier transformation on the encoder output as mentioned in the paper. I am using the glove embeddings with\n",
    "# 200 dimensions, embedding dimensions - 100, hidden dimensions - 200. Using base ContextualColorDescriber created above.\n",
    "# My peak score was: 0.854016700259142\n",
    "if 'IS_GRADESCOPE_ENV' not in os.environ:\n",
    "        \n",
    "    def build_original_system(word_count=None, embed_dim=100, hidden_dim=200, glove_file='glove.6B.100d.txt'):\n",
    "        \n",
    "        corpus = ColorsCorpusReader(COLORS_SRC_FILENAME, \n",
    "                                    word_count=word_count,\n",
    "                                    normalize_colors=True)\n",
    "        \n",
    "        examples = list(corpus.read())\n",
    "\n",
    "        rawcols, texts = zip(*[[ex.colors, ex.contents] for ex in examples])\n",
    "\n",
    "        rawcols_train, rawcols_test, texts_train, texts_test = train_test_split(rawcols, texts) \n",
    "\n",
    "        seqs_train = [tokenize_example(s) for s in texts_train]\n",
    "\n",
    "        vocab = sorted({w for toks in seqs_train for w in toks})\n",
    "        vocab += [UNK_SYMBOL]\n",
    "\n",
    "        glove_embedding, glove_vocab = create_glove_embedding(vocab, glove_file)\n",
    "\n",
    "        cols_train = [represent_color_context(colors) for colors in rawcols_train]\n",
    "\n",
    "        model = ContextualColorDescriber(vocab=glove_vocab, \n",
    "                                         embedding=glove_embedding,\n",
    "                                         embed_dim=embed_dim,\n",
    "                                         hidden_dim=hidden_dim,\n",
    "                                         early_stopping=True)\n",
    "        \n",
    "        _ = model.fit(cols_train, seqs_train)\n",
    "\n",
    "        return model\n",
    "# STOP COMMENT: Please do not remove this comment."
   ]
  },
  {
   "cell_type": "code",
   "execution_count": null,
   "metadata": {},
   "outputs": [
    {
     "name": "stderr",
     "output_type": "stream",
     "text": [
      "/home/ankit.g1/Documents/Github/cs224u/utils.py:50: DeprecationWarning: `np.float` is a deprecated alias for the builtin `float`. To silence this warning, use `float` by itself. Doing this will not modify any behavior and is safe. If you specifically wanted the numpy scalar type, use `np.float64` here.\n",
      "Deprecated in NumPy 1.20; for more details and guidance: https://numpy.org/devdocs/release/1.20.0-notes.html#deprecations\n",
      "  data[line[0]] = np.array(line[1: ], dtype=np.float)\n",
      "/home/ankit.g1/Documents/Github/cs224u/torch_color_describer.py:680: RuntimeWarning: divide by zero encountered in power\n",
      "  perp = [np.prod(s)**(-1/len(s)) for s in scores]\n",
      "Finished epoch 1 of 1000; error is 229.9119553565979/home/ankit.g1/Documents/Github/cs224u/torch_color_describer.py:680: RuntimeWarning: divide by zero encountered in power\n",
      "  perp = [np.prod(s)**(-1/len(s)) for s in scores]\n",
      "Finished epoch 2 of 1000; error is 217.58538722991943/home/ankit.g1/Documents/Github/cs224u/torch_color_describer.py:680: RuntimeWarning: divide by zero encountered in power\n",
      "  perp = [np.prod(s)**(-1/len(s)) for s in scores]\n",
      "Finished epoch 3 of 1000; error is 215.48583269119263/home/ankit.g1/Documents/Github/cs224u/torch_color_describer.py:680: RuntimeWarning: divide by zero encountered in power\n",
      "  perp = [np.prod(s)**(-1/len(s)) for s in scores]\n",
      "Finished epoch 4 of 1000; error is 213.82687377929688/home/ankit.g1/Documents/Github/cs224u/torch_color_describer.py:680: RuntimeWarning: divide by zero encountered in power\n",
      "  perp = [np.prod(s)**(-1/len(s)) for s in scores]\n",
      "Finished epoch 5 of 1000; error is 211.97523736953735/home/ankit.g1/Documents/Github/cs224u/torch_color_describer.py:680: RuntimeWarning: divide by zero encountered in power\n",
      "  perp = [np.prod(s)**(-1/len(s)) for s in scores]\n",
      "Finished epoch 6 of 1000; error is 208.6364197731018/home/ankit.g1/Documents/Github/cs224u/torch_color_describer.py:680: RuntimeWarning: divide by zero encountered in power\n",
      "  perp = [np.prod(s)**(-1/len(s)) for s in scores]\n",
      "Finished epoch 7 of 1000; error is 207.72304773330688/home/ankit.g1/Documents/Github/cs224u/torch_color_describer.py:680: RuntimeWarning: divide by zero encountered in power\n",
      "  perp = [np.prod(s)**(-1/len(s)) for s in scores]\n",
      "Finished epoch 8 of 1000; error is 204.7539348602295/home/ankit.g1/Documents/Github/cs224u/torch_color_describer.py:680: RuntimeWarning: divide by zero encountered in power\n",
      "  perp = [np.prod(s)**(-1/len(s)) for s in scores]\n",
      "Finished epoch 9 of 1000; error is 202.4806170463562/home/ankit.g1/Documents/Github/cs224u/torch_color_describer.py:680: RuntimeWarning: divide by zero encountered in power\n",
      "  perp = [np.prod(s)**(-1/len(s)) for s in scores]\n",
      "Finished epoch 10 of 1000; error is 201.4495029449463/home/ankit.g1/Documents/Github/cs224u/torch_color_describer.py:680: RuntimeWarning: divide by zero encountered in power\n",
      "  perp = [np.prod(s)**(-1/len(s)) for s in scores]\n",
      "Finished epoch 11 of 1000; error is 198.64347219467163/home/ankit.g1/Documents/Github/cs224u/torch_color_describer.py:680: RuntimeWarning: divide by zero encountered in power\n",
      "  perp = [np.prod(s)**(-1/len(s)) for s in scores]\n",
      "Finished epoch 12 of 1000; error is 196.32224082946777/home/ankit.g1/Documents/Github/cs224u/torch_color_describer.py:680: RuntimeWarning: divide by zero encountered in power\n",
      "  perp = [np.prod(s)**(-1/len(s)) for s in scores]\n"
     ]
    }
   ],
   "source": [
    "orig_model = build_original_system(embed_dim=100, hidden_dim=200, glove_file='glove.6B.200d.txt')\n",
    "orig_evaluation = evaluate_original_system(orig_model, dev_rawcols_test, dev_texts_test)"
   ]
  },
  {
   "cell_type": "code",
   "execution_count": null,
   "metadata": {},
   "outputs": [],
   "source": [
    "print(orig_evaluation['listener_accuracy'])\n",
    "print(orig_evaluation['corpus_bleu'])"
   ]
  },
  {
   "cell_type": "code",
   "execution_count": 437,
   "metadata": {},
   "outputs": [
    {
     "name": "stdout",
     "output_type": "stream",
     "text": [
      "0.854016700259142\n",
      "0.6549495446995711\n"
     ]
    }
   ],
   "source": [
    "print(orig_evaluation['listener_accuracy'])\n",
    "print(orig_evaluation['corpus_bleu'])"
   ]
  },
  {
   "cell_type": "code",
   "execution_count": 404,
   "metadata": {},
   "outputs": [
    {
     "name": "stdout",
     "output_type": "stream",
     "text": [
      "0.8053556003455226\n",
      "0.6425639309722567\n"
     ]
    }
   ],
   "source": [
    "print(orig_evaluation['listener_accuracy'])\n",
    "print(orig_evaluation['corpus_bleu'])"
   ]
  },
  {
   "cell_type": "markdown",
   "metadata": {},
   "source": [
    "## Bakeoff [1 point]"
   ]
  },
  {
   "cell_type": "markdown",
   "metadata": {},
   "source": [
    "For the bake-off, we will use our original test set. The function you need to run for the submission is the following, which uses your `evaluate_original_system` from above:"
   ]
  },
  {
   "cell_type": "code",
   "execution_count": 438,
   "metadata": {},
   "outputs": [],
   "source": [
    "def create_bakeoff_submission(\n",
    "        trained_model,\n",
    "        output_filename='cs224u-colors-bakeoff-entry.csv'):\n",
    "    bakeoff_src_filename = os.path.join(\n",
    "        \"data\", \"colors\", \"cs224u-colors-test.csv\")\n",
    "\n",
    "    bakeoff_corpus = ColorsCorpusReader(bakeoff_src_filename)\n",
    "\n",
    "    # This code just extracts the colors and texts from the new corpus:\n",
    "    bakeoff_rawcols, bakeoff_texts = zip(*[\n",
    "        [ex.colors, ex.contents] for ex in bakeoff_corpus.read()])\n",
    "\n",
    "    # Original system function call; `trained_model` is your trained model:\n",
    "    evaluation = evaluate_original_system(\n",
    "        trained_model, bakeoff_rawcols, bakeoff_texts)\n",
    "\n",
    "    evaluation['bakeoff_text'] = bakeoff_texts\n",
    "    \n",
    "    print(evaluation[\"listener_accuracy\"])\n",
    "\n",
    "    df = pd.DataFrame(evaluation)\n",
    "    df.to_csv(output_filename)"
   ]
  },
  {
   "cell_type": "code",
   "execution_count": 439,
   "metadata": {},
   "outputs": [
    {
     "name": "stdout",
     "output_type": "stream",
     "text": [
      "0.8690300344657804\n"
     ]
    }
   ],
   "source": [
    "# This check ensure that the following code only runs on the local environment only.\n",
    "# The following call will not be run on the autograder environment.\n",
    "if 'IS_GRADESCOPE_ENV' not in os.environ:\n",
    "    create_bakeoff_submission(orig_model)"
   ]
  },
  {
   "cell_type": "code",
   "execution_count": null,
   "metadata": {},
   "outputs": [],
   "source": [
    "# 0.8053556003455226\n",
    "# 0.6425639309722567\n",
    "\n",
    "# 0.8680452978828164   50/50"
   ]
  },
  {
   "cell_type": "markdown",
   "metadata": {},
   "source": [
    "This creates a file `cs224u-colors-bakeoff-entry.csv` in the current directory. That file should be uploaded as-is. Please do not change its name.\n",
    "\n",
    "Only one upload per team is permitted, and you should do no tuning of your system based on what you see in the file – you should not study that file in anyway, beyond perhaps checking that it contains what you expected it to contain. The upload function will do some additional checking to ensure that your file is well-formed.\n",
    "\n",
    "The nature of our evaluation is such that we have to release the full test set with all labels. Thus, we have to trust you not to make any use of the test set during development. Recall:\n",
    "\n",
    "1. Only one evaluation is permitted.\n",
    "1. No additional system tuning is permitted once the bake-off has started.\n",
    "\n",
    "Systems will be ranked primarily by `listener_accuracy`, but we will also consider their `corpus_bleu` scores. However, the BLEU score is just a simple check that your system is speaking some version of English that corresponds in some meaningful way to the gold descriptions, so you should concentrate on `listener_accuracy`.\n",
    "\n",
    "People who enter will receive the additional homework point, and people whose systems achieve the top score will receive an additional 0.5 points. We will test the top-performing systems ourselves, and only systems for which we can reproduce the reported results will win the extra 0.5 points.\n",
    "\n",
    "Late entries will be accepted, but they cannot earn the extra 0.5 points."
   ]
  },
  {
   "cell_type": "markdown",
   "metadata": {},
   "source": [
    "## Submission Instruction\n",
    "\n",
    "Submit the following files to gradescope submission\n",
    "\n",
    "- Please do not change the file name as described below\n",
    "- `hw_colors.ipynb` (this notebook)\n",
    "- `cs224u-colors-bakeoff-entry.csv` (bake-off output)"
   ]
  }
 ],
 "metadata": {
  "kernelspec": {
   "display_name": "Python 3 (ipykernel)",
   "language": "python",
   "name": "python3"
  },
  "language_info": {
   "codemirror_mode": {
    "name": "ipython",
    "version": 3
   },
   "file_extension": ".py",
   "mimetype": "text/x-python",
   "name": "python",
   "nbconvert_exporter": "python",
   "pygments_lexer": "ipython3",
   "version": "3.8.8"
  }
 },
 "nbformat": 4,
 "nbformat_minor": 4
}
